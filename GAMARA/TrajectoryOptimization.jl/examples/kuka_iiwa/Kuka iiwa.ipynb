{
 "cells": [
  {
   "cell_type": "code",
   "execution_count": 15,
   "metadata": {},
   "outputs": [],
   "source": [
    "using MeshCatMechanisms\n",
    "using MeshCat\n",
    "using LinearAlgebra\n",
    "using RigidBodyDynamics\n",
    "using Plots\n",
    "using GeometryTypes\n",
    "using CoordinateTransformations\n",
    "using TrajectoryOptimization"
   ]
  },
  {
   "cell_type": "markdown",
   "metadata": {},
   "source": [
    "Load Kuka iiwa model (from URDF)"
   ]
  },
  {
   "cell_type": "code",
   "execution_count": 16,
   "metadata": {},
   "outputs": [
    {
     "data": {
      "text/plain": [
       "(14, 7)"
      ]
     },
     "execution_count": 16,
     "metadata": {},
     "output_type": "execute_result"
    }
   ],
   "source": [
    "kuka = parse_urdf(Dynamics.urdf_kuka,remove_fixed_tree_joints=false)\n",
    "\n",
    "model = Dynamics.kuka\n",
    "model_d = rk3(model)\n",
    "n,m = model.n, model.m"
   ]
  },
  {
   "cell_type": "markdown",
   "metadata": {},
   "source": [
    "Numerical type"
   ]
  },
  {
   "cell_type": "code",
   "execution_count": 17,
   "metadata": {},
   "outputs": [
    {
     "data": {
      "text/plain": [
       "Float64"
      ]
     },
     "execution_count": 17,
     "metadata": {},
     "output_type": "execute_result"
    }
   ],
   "source": [
    "T = Float64"
   ]
  },
  {
   "cell_type": "code",
   "execution_count": 18,
   "metadata": {},
   "outputs": [
    {
     "data": {
      "text/plain": [
       "hold_trajectory (generic function with 1 method)"
      ]
     },
     "execution_count": 18,
     "metadata": {},
     "output_type": "execute_result"
    }
   ],
   "source": [
    "function hold_trajectory(n,m,N, mech::Mechanism, q)\n",
    "    state = MechanismState(mech)\n",
    "    nn = num_positions(state)\n",
    "    set_configuration!(state, q[1:nn])\n",
    "    vd = zero(state.q)\n",
    "    u0 = dynamics_bias(state)\n",
    "\n",
    "    \n",
    "    if length(q) > m\n",
    "        throw(ArgumentError(\"system must be fully actuated to hold an arbitrary position ($(length(q)) should be > $m)\"))\n",
    "    end\n",
    "    U0 = zeros(m,N)\n",
    "    for k = 1:N\n",
    "        U0[:,k] = u0\n",
    "    end\n",
    "    return U0\n",
    "end\n"
   ]
  },
  {
   "cell_type": "markdown",
   "metadata": {},
   "source": [
    "Initial and final states"
   ]
  },
  {
   "cell_type": "code",
   "execution_count": 19,
   "metadata": {},
   "outputs": [],
   "source": [
    "x0 = zeros(n)\n",
    "\n",
    "xf = zeros(n)\n",
    "xf[1] = pi/2\n",
    "xf[2] = pi/2;"
   ]
  },
  {
   "cell_type": "markdown",
   "metadata": {},
   "source": [
    "Cost"
   ]
  },
  {
   "cell_type": "code",
   "execution_count": 20,
   "metadata": {},
   "outputs": [],
   "source": [
    "Q = Diagonal([ones(7); ones(7)*100])\n",
    "Qf = 1000.0*Diagonal(I,n)\n",
    "R = 1e-2*Diagonal(I,m);"
   ]
  },
  {
   "cell_type": "markdown",
   "metadata": {},
   "source": [
    "Solver options"
   ]
  },
  {
   "cell_type": "code",
   "execution_count": 21,
   "metadata": {},
   "outputs": [],
   "source": [
    "verbose=false\n",
    "\n",
    "opts_ilqr = iLQRSolverOptions{T}(verbose=true,\n",
    "    iterations=300,\n",
    "    live_plotting=:off)\n",
    "\n",
    "opts_al = AugmentedLagrangianSolverOptions{T}(verbose=true,\n",
    "    opts_uncon=opts_ilqr,\n",
    "    iterations=20,\n",
    "    cost_tolerance=1.0e-6,\n",
    "    cost_tolerance_intermediate=1.0e-5,\n",
    "    constraint_tolerance=1.0e-3,\n",
    "    penalty_scaling=50.,\n",
    "    penalty_initial=0.01)\n",
    "\n",
    "opts_altro = ALTROSolverOptions{T}(verbose=true,\n",
    "    resolve_feasible_problem=false,\n",
    "    opts_al=opts_al,\n",
    "    R_inf=0.01);"
   ]
  },
  {
   "cell_type": "markdown",
   "metadata": {},
   "source": [
    "Terminal constraint"
   ]
  },
  {
   "cell_type": "code",
   "execution_count": 22,
   "metadata": {},
   "outputs": [],
   "source": [
    "goal = goal_constraint(xf);"
   ]
  },
  {
   "cell_type": "markdown",
   "metadata": {},
   "source": [
    "Problem"
   ]
  },
  {
   "cell_type": "code",
   "execution_count": 26,
   "metadata": {},
   "outputs": [],
   "source": [
    "N = 51 # number of knot points\n",
    "tf = 5.0\n",
    "dt = tf/(N-1)# total time\n",
    "\n",
    "U_hold = hold_trajectory(n,m,N, kuka, x0[1:7])\n",
    "obj = LQRObjective(Q,R,Qf,xf,N) # objective with same stagewise costs\n",
    "con = Constraints(N)\n",
    "con[N] += goal\n",
    "\n",
    "prob = Problem(model_d,obj,x0=x0, xf=xf, dt=dt, constraints=con)\n",
    "initial_controls!(prob, U_hold); # initialize problem with controls"
   ]
  },
  {
   "cell_type": "code",
   "execution_count": 27,
   "metadata": {},
   "outputs": [
    {
     "name": "stderr",
     "output_type": "stream",
     "text": [
      "\u001b[33m\u001b[1miter  total  c_max       cost      info                                              \u001b[22m\u001b[39m\n",
      "\u001b[33m\u001b[1m-------------------------------------------------------------------------------------\u001b[22m\u001b[39m\n",
      "1     0       1.57079633  2479.763 \n",
      "\u001b[32m\u001b[1m    iter cost          expected    z         α         ρ         dJ        grad      zero_count info                                              \u001b[22m\u001b[39m\n",
      "\u001b[32m\u001b[1m____----------------------------------------------------------------------------------------------------------------------------------------------\u001b[22m\u001b[39m\n",
      "    1     1494.3188748  1026.44524  0.960055  0.25      0e+00     985.4439  3.76957  0          \n",
      "    2     922.58617409  596.549237  0.9584    0.25      0e+00     571.7327  3.377408 0          \n",
      "    3     382.20076329  597.337196  0.904657  0.5       0e+00     540.3854  3.333207 0          \n",
      "    4     351.16619232  197.343399  0.157262  0.5       0e+00     31.03457  2.922638 0          \n",
      "    5     134.48247226  234.996656  0.922072  1         0e+00     216.6837  1.79147  0          \n",
      "    6     121.3960691   14.8561963  0.880872  0.5       0e+00     13.0864   0.073863 0          \n",
      "    7     114.64912167  6.76455645  0.997397  1         0e+00     6.746947  0.044878 0          \n",
      "    8     114.61122479  0.03757352  1.008606  1         0e+00     0.037897  0.009766 0          \n",
      "    9     114.61077666  0.00042657  1.050557  1         0e+00     0.000448  0.002039 0          \n",
      "    10    114.61077161  4.2224e-06  1.194994  1         0e+00     5.05e-06  0.000393 0          \n",
      "\u001b[33m\u001b[1miter  total  c_max       cost      info                                              \u001b[22m\u001b[39m\n",
      "\u001b[33m\u001b[1m-------------------------------------------------------------------------------------\u001b[22m\u001b[39m\n",
      "2     10      0.08252344  114.6108 \n",
      "\u001b[32m\u001b[1m    iter cost          expected    z         α         ρ         dJ        grad      zero_count info                                              \u001b[22m\u001b[39m\n",
      "\u001b[32m\u001b[1m____----------------------------------------------------------------------------------------------------------------------------------------------\u001b[22m\u001b[39m\n",
      "    1     114.61287393  1.4411e-06  1.090971  1         0e+00     1.57e-06  0.00025  0          \n",
      "\u001b[33m\u001b[1miter  total  c_max       cost      info                                              \u001b[22m\u001b[39m\n",
      "\u001b[33m\u001b[1m-------------------------------------------------------------------------------------\u001b[22m\u001b[39m\n",
      "3     11      0.0824777   114.6129 \n",
      "\u001b[32m\u001b[1m    iter cost          expected    z         α         ρ         dJ        grad      zero_count info                                              \u001b[22m\u001b[39m\n",
      "\u001b[32m\u001b[1m____----------------------------------------------------------------------------------------------------------------------------------------------\u001b[22m\u001b[39m\n",
      "    1     114.715449    0.00240387  1.041701  1         0e+00     0.002504  0.008966 0          \n",
      "    2     114.71543242  0.00001407  1.178689  1         0e+00     1.66e-05  0.000579 0          \n",
      "    3     114.71543185  4.8357e-07  1.194635  1         0e+00     5.78e-07  0.000126 0          \n",
      "\u001b[33m\u001b[1miter  total  c_max       cost      info                                              \u001b[22m\u001b[39m\n",
      "\u001b[33m\u001b[1m-------------------------------------------------------------------------------------\u001b[22m\u001b[39m\n",
      "4     14      0.08045989  114.7154 \n",
      "\u001b[32m\u001b[1m    iter cost          expected    z         α         ρ         dJ        grad      zero_count info                                              \u001b[22m\u001b[39m\n",
      "\u001b[32m\u001b[1m____----------------------------------------------------------------------------------------------------------------------------------------------\u001b[22m\u001b[39m\n",
      "    1     117.08012368  2.66520091  0.989027  1         0e+00     2.635956  0.235791 0          \n",
      "    2     116.99055128  0.08840756  1.013176  1         0e+00     0.089572  0.011954 0          \n",
      "    3     116.99026716  0.00024024  1.182624  1         0e+00     0.000284  0.002669 0          \n",
      "    4     116.99025694  8.5606e-06  1.194074  1         0e+00     1.02e-05  0.00054  0          \n",
      "    5     116.99025656  3.2326e-07  1.194352  1         0e+00     3.86e-07  0.000107 0          \n",
      "\u001b[33m\u001b[1miter  total  c_max       cost      info                                              \u001b[22m\u001b[39m\n",
      "\u001b[33m\u001b[1m-------------------------------------------------------------------------------------\u001b[22m\u001b[39m\n",
      "5     19      0.03565866  116.9903 \n",
      "\u001b[32m\u001b[1m    iter cost          expected    z         α         ρ         dJ        grad      zero_count info                                              \u001b[22m\u001b[39m\n",
      "\u001b[32m\u001b[1m____----------------------------------------------------------------------------------------------------------------------------------------------\u001b[22m\u001b[39m\n",
      "    1     119.71778619  47.4969392  0.979672  1         0e+00     46.53144  0.235021 0          \n",
      "    2     118.7126447   1.00447519  1.000663  1         0e+00     1.005141  0.009101 0          \n",
      "    3     118.71247333  0.00014612  1.17286   1         0e+00     0.000171  0.002007 0          \n",
      "    4     118.71246747  4.9044e-06  1.193402  1         0e+00     5.85e-06  0.000404 0          \n",
      "\u001b[33m\u001b[1miter  total  c_max       cost      info                                              \u001b[22m\u001b[39m\n",
      "\u001b[33m\u001b[1m-------------------------------------------------------------------------------------\u001b[22m\u001b[39m\n",
      "6     23      0.00055661  118.7125 \n"
     ]
    }
   ],
   "source": [
    "solve!(prob, opts_al);"
   ]
  },
  {
   "cell_type": "markdown",
   "metadata": {},
   "source": [
    "Visualizer"
   ]
  },
  {
   "cell_type": "code",
   "execution_count": 31,
   "metadata": {},
   "outputs": [],
   "source": [
    "kuka_visuals = URDFVisuals(Dynamics.urdf_kuka)\n",
    "state = MechanismState(kuka)\n",
    "world = root_frame(kuka)\n",
    "\n",
    "# Create Visualizer\n",
    "vis = Visualizer()\n",
    "mvis = MechanismVisualizer(kuka, kuka_visuals, vis[:base])\n",
    "# open(vis)\n",
    "IJuliaCell(vis);"
   ]
  },
  {
   "cell_type": "markdown",
   "metadata": {},
   "source": [
    "Create animation"
   ]
  },
  {
   "cell_type": "code",
   "execution_count": 32,
   "metadata": {},
   "outputs": [],
   "source": [
    "q = [prob.X[k][1:7] for k = 1:N]\n",
    "t = range(0,stop=tf,length=N)\n",
    "\n",
    "setanimation!(mvis,t,q)"
   ]
  },
  {
   "cell_type": "code",
   "execution_count": null,
   "metadata": {},
   "outputs": [],
   "source": []
  }
 ],
 "metadata": {
  "kernelspec": {
   "display_name": "Julia 1.1.0",
   "language": "julia",
   "name": "julia-1.1"
  },
  "language_info": {
   "file_extension": ".jl",
   "mimetype": "application/julia",
   "name": "julia",
   "version": "1.1.0"
  }
 },
 "nbformat": 4,
 "nbformat_minor": 2
}
