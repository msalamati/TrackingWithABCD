{
 "cells": [
  {
   "cell_type": "markdown",
   "metadata": {},
   "source": [
    "## Car Time Penalized"
   ]
  },
  {
   "cell_type": "code",
   "execution_count": 23,
   "metadata": {},
   "outputs": [],
   "source": [
    "using TrajectoryOptimization\n",
    "using Plots, LinearAlgebra"
   ]
  },
  {
   "cell_type": "markdown",
   "metadata": {},
   "source": [
    "Import the car model"
   ]
  },
  {
   "cell_type": "code",
   "execution_count": 24,
   "metadata": {},
   "outputs": [],
   "source": [
    "model = Dynamics.car\n",
    "model_d = rk3(model) # discrete dynamics\n",
    "n = model.n # number of states\n",
    "m = model.m; # number of control"
   ]
  },
  {
   "cell_type": "markdown",
   "metadata": {},
   "source": [
    "Define numerical type"
   ]
  },
  {
   "cell_type": "code",
   "execution_count": 25,
   "metadata": {},
   "outputs": [],
   "source": [
    "T = Float64;"
   ]
  },
  {
   "cell_type": "markdown",
   "metadata": {},
   "source": [
    "Define initial and goals states"
   ]
  },
  {
   "cell_type": "code",
   "execution_count": 26,
   "metadata": {},
   "outputs": [],
   "source": [
    "x0 = [0.0;0.0;0.0]\n",
    "xf = [0.0;1.0;0.0];"
   ]
  },
  {
   "cell_type": "markdown",
   "metadata": {},
   "source": [
    "Define cost functions, e.g., quadratic"
   ]
  },
  {
   "cell_type": "code",
   "execution_count": 27,
   "metadata": {},
   "outputs": [
    {
     "data": {
      "text/plain": [
       "2×2 Diagonal{Float64,Array{Float64,1}}:\n",
       " 0.01   ⋅  \n",
       "  ⋅    0.01"
      ]
     },
     "execution_count": 27,
     "metadata": {},
     "output_type": "execute_result"
    }
   ],
   "source": [
    "Qf = 100.0*Diagonal(I,n)\n",
    "Q = (1e-2)*Diagonal(I,n)\n",
    "R = (1e-2)*Diagonal(I,m)"
   ]
  },
  {
   "cell_type": "markdown",
   "metadata": {},
   "source": [
    "Define constraints"
   ]
  },
  {
   "cell_type": "code",
   "execution_count": 28,
   "metadata": {},
   "outputs": [
    {
     "data": {
      "text/plain": [
       "Constraint{Equality}(getfield(TrajectoryOptimization, Symbol(\"#terminal_constraint#12\")){Array{Float64,1}}([0.0, 1.0, 0.0]), getfield(TrajectoryOptimization, Symbol(\"#terminal_jacobian#13\")){Int64}(3), 3, :goal, Array{Int64,1}[[1, 2, 3], []], :terminal, :x)"
      ]
     },
     "execution_count": 28,
     "metadata": {},
     "output_type": "execute_result"
    }
   ],
   "source": [
    "u_bnd = 2.\n",
    "bnd = BoundConstraint(n,m,u_min=-u_bnd,u_max=u_bnd)\n",
    "\n",
    "goal_con = goal_constraint(xf)"
   ]
  },
  {
   "cell_type": "markdown",
   "metadata": {},
   "source": [
    "Set options"
   ]
  },
  {
   "cell_type": "code",
   "execution_count": 29,
   "metadata": {},
   "outputs": [],
   "source": [
    "verbose=false\n",
    "opts_ilqr = iLQRSolverOptions{T}(verbose=false,\n",
    "    live_plotting=:off)\n",
    "\n",
    "opts_al = AugmentedLagrangianSolverOptions{T}(verbose=false,\n",
    "    opts_uncon=opts_ilqr,\n",
    "    iterations=30,\n",
    "    penalty_scaling=10.0)\n",
    "\n",
    "opts_altro = ALTROSolverOptions{T}(verbose=false,\n",
    "    opts_al=opts_al,\n",
    "    R_minimum_time=15.0,\n",
    "    dt_max=0.2,\n",
    "    dt_min=1.0e-3);"
   ]
  },
  {
   "cell_type": "markdown",
   "metadata": {},
   "source": [
    "Define a problem"
   ]
  },
  {
   "cell_type": "code",
   "execution_count": 31,
   "metadata": {},
   "outputs": [],
   "source": [
    "N = 51\n",
    "\n",
    "tf = 3.0\n",
    "dt = 0.06\n",
    "\n",
    "U = [ones(m) for k = 1:N-1]\n",
    "\n",
    "obj = LQRObjective(Q,R,Qf,xf,N)\n",
    "\n",
    "constraints = Constraints(N)\n",
    "for k = 1:N-1\n",
    "    constraints[k] += bnd\n",
    "end\n",
    "constraints[N] += goal_con\n",
    "\n",
    "prob = Problem(model_d,obj,constraints=constraints,dt=dt,N=N,x0=x0,xf=xf)\n",
    "initial_controls!(prob, U);"
   ]
  },
  {
   "cell_type": "markdown",
   "metadata": {},
   "source": [
    "Solve problem"
   ]
  },
  {
   "cell_type": "code",
   "execution_count": 32,
   "metadata": {},
   "outputs": [
    {
     "name": "stderr",
     "output_type": "stream",
     "text": [
      "┌ Info: Augmented Lagrangian solve...\n",
      "└ @ TrajectoryOptimization /home/taylor/.julia/dev/TrajectoryOptimization/src/altro.jl:24\n"
     ]
    }
   ],
   "source": [
    "solve!(prob, opts_altro); # solve with ALTRO"
   ]
  },
  {
   "cell_type": "markdown",
   "metadata": {},
   "source": [
    "Define minimum time problem setting tf to :min"
   ]
  },
  {
   "cell_type": "code",
   "execution_count": 13,
   "metadata": {},
   "outputs": [],
   "source": [
    "prob_mt = Problem(model_d,obj,constraints=constraints,\n",
    "    dt=dt,x0=x0,N=N,tf=:min);\n",
    "\n",
    "# use previous control trajectory to warm start\n",
    "initial_controls!(prob_mt, prob.U);"
   ]
  },
  {
   "cell_type": "markdown",
   "metadata": {},
   "source": [
    "Solve minimum time problem"
   ]
  },
  {
   "cell_type": "code",
   "execution_count": 14,
   "metadata": {},
   "outputs": [
    {
     "name": "stderr",
     "output_type": "stream",
     "text": [
      "┌ Info: Minimum Time Solve\n",
      "└ @ TrajectoryOptimization /home/taylor/.julia/dev/TrajectoryOptimization/src/altro.jl:111\n",
      "┌ Info: Augmented Lagrangian solve...\n",
      "└ @ TrajectoryOptimization /home/taylor/.julia/dev/TrajectoryOptimization/src/altro.jl:24\n"
     ]
    }
   ],
   "source": [
    "solve!(prob_mt, opts_altro); # solve with ALTRO"
   ]
  },
  {
   "cell_type": "markdown",
   "metadata": {},
   "source": [
    "Plot state trajectories"
   ]
  },
  {
   "cell_type": "code",
   "execution_count": 15,
   "metadata": {},
   "outputs": [],
   "source": [
    "x = [prob.X[k][1] for k = 1:N]\n",
    "y = [prob.X[k][2] for k = 1:N]\n",
    "\n",
    "x_min_time = [prob_mt.X[k][1] for k = 1:N]\n",
    "y_min_time = [prob_mt.X[k][2] for k = 1:N];"
   ]
  },
  {
   "cell_type": "code",
   "execution_count": 16,
   "metadata": {},
   "outputs": [
    {
     "data": {
      "image/svg+xml": [
       "<?xml version=\"1.0\" encoding=\"utf-8\"?>\n",
       "<svg xmlns=\"http://www.w3.org/2000/svg\" xmlns:xlink=\"http://www.w3.org/1999/xlink\" width=\"600\" height=\"400\" viewBox=\"0 0 2400 1600\">\n",
       "<defs>\n",
       "  <clipPath id=\"clip7500\">\n",
       "    <rect x=\"0\" y=\"0\" width=\"2400\" height=\"1600\"/>\n",
       "  </clipPath>\n",
       "</defs>\n",
       "<polygon clip-path=\"url(#clip7500)\" points=\"\n",
       "0,1600 2400,1600 2400,0 0,0 \n",
       "  \" fill=\"#ffffff\" fill-rule=\"evenodd\" fill-opacity=\"1\"/>\n",
       "<defs>\n",
       "  <clipPath id=\"clip7501\">\n",
       "    <rect x=\"480\" y=\"0\" width=\"1681\" height=\"1600\"/>\n",
       "  </clipPath>\n",
       "</defs>\n",
       "<polygon clip-path=\"url(#clip7500)\" points=\"\n",
       "558.007,1425.62 2037.27,1425.62 2037.27,121.675 558.007,121.675 \n",
       "  \" fill=\"#ffffff\" fill-rule=\"evenodd\" fill-opacity=\"1\"/>\n",
       "<defs>\n",
       "  <clipPath id=\"clip7502\">\n",
       "    <rect x=\"558\" y=\"121\" width=\"1480\" height=\"1305\"/>\n",
       "  </clipPath>\n",
       "</defs>\n",
       "<polyline clip-path=\"url(#clip7502)\" style=\"stroke:#000000; stroke-width:2; stroke-opacity:0.1; fill:none\" points=\"\n",
       "  558.007,1425.62 558.007,121.675 \n",
       "  \"/>\n",
       "<polyline clip-path=\"url(#clip7502)\" style=\"stroke:#000000; stroke-width:2; stroke-opacity:0.1; fill:none\" points=\"\n",
       "  804.55,1425.62 804.55,121.675 \n",
       "  \"/>\n",
       "<polyline clip-path=\"url(#clip7502)\" style=\"stroke:#000000; stroke-width:2; stroke-opacity:0.1; fill:none\" points=\"\n",
       "  1051.09,1425.62 1051.09,121.675 \n",
       "  \"/>\n",
       "<polyline clip-path=\"url(#clip7502)\" style=\"stroke:#000000; stroke-width:2; stroke-opacity:0.1; fill:none\" points=\"\n",
       "  1297.64,1425.62 1297.64,121.675 \n",
       "  \"/>\n",
       "<polyline clip-path=\"url(#clip7502)\" style=\"stroke:#000000; stroke-width:2; stroke-opacity:0.1; fill:none\" points=\"\n",
       "  1544.18,1425.62 1544.18,121.675 \n",
       "  \"/>\n",
       "<polyline clip-path=\"url(#clip7502)\" style=\"stroke:#000000; stroke-width:2; stroke-opacity:0.1; fill:none\" points=\"\n",
       "  1790.72,1425.62 1790.72,121.675 \n",
       "  \"/>\n",
       "<polyline clip-path=\"url(#clip7502)\" style=\"stroke:#000000; stroke-width:2; stroke-opacity:0.1; fill:none\" points=\"\n",
       "  2037.27,1425.62 2037.27,121.675 \n",
       "  \"/>\n",
       "<polyline clip-path=\"url(#clip7502)\" style=\"stroke:#000000; stroke-width:2; stroke-opacity:0.1; fill:none\" points=\"\n",
       "  558.007,1239.92 2037.27,1239.92 \n",
       "  \"/>\n",
       "<polyline clip-path=\"url(#clip7502)\" style=\"stroke:#000000; stroke-width:2; stroke-opacity:0.1; fill:none\" points=\"\n",
       "  558.007,993.374 2037.27,993.374 \n",
       "  \"/>\n",
       "<polyline clip-path=\"url(#clip7502)\" style=\"stroke:#000000; stroke-width:2; stroke-opacity:0.1; fill:none\" points=\"\n",
       "  558.007,746.831 2037.27,746.831 \n",
       "  \"/>\n",
       "<polyline clip-path=\"url(#clip7502)\" style=\"stroke:#000000; stroke-width:2; stroke-opacity:0.1; fill:none\" points=\"\n",
       "  558.007,500.288 2037.27,500.288 \n",
       "  \"/>\n",
       "<polyline clip-path=\"url(#clip7502)\" style=\"stroke:#000000; stroke-width:2; stroke-opacity:0.1; fill:none\" points=\"\n",
       "  558.007,253.745 2037.27,253.745 \n",
       "  \"/>\n",
       "<polyline clip-path=\"url(#clip7500)\" style=\"stroke:#000000; stroke-width:4; stroke-opacity:1; fill:none\" points=\"\n",
       "  558.007,1425.62 2037.27,1425.62 \n",
       "  \"/>\n",
       "<polyline clip-path=\"url(#clip7500)\" style=\"stroke:#000000; stroke-width:4; stroke-opacity:1; fill:none\" points=\"\n",
       "  558.007,1425.62 558.007,121.675 \n",
       "  \"/>\n",
       "<polyline clip-path=\"url(#clip7500)\" style=\"stroke:#000000; stroke-width:4; stroke-opacity:1; fill:none\" points=\"\n",
       "  558.007,1425.62 558.007,1406.06 \n",
       "  \"/>\n",
       "<polyline clip-path=\"url(#clip7500)\" style=\"stroke:#000000; stroke-width:4; stroke-opacity:1; fill:none\" points=\"\n",
       "  804.55,1425.62 804.55,1406.06 \n",
       "  \"/>\n",
       "<polyline clip-path=\"url(#clip7500)\" style=\"stroke:#000000; stroke-width:4; stroke-opacity:1; fill:none\" points=\"\n",
       "  1051.09,1425.62 1051.09,1406.06 \n",
       "  \"/>\n",
       "<polyline clip-path=\"url(#clip7500)\" style=\"stroke:#000000; stroke-width:4; stroke-opacity:1; fill:none\" points=\"\n",
       "  1297.64,1425.62 1297.64,1406.06 \n",
       "  \"/>\n",
       "<polyline clip-path=\"url(#clip7500)\" style=\"stroke:#000000; stroke-width:4; stroke-opacity:1; fill:none\" points=\"\n",
       "  1544.18,1425.62 1544.18,1406.06 \n",
       "  \"/>\n",
       "<polyline clip-path=\"url(#clip7500)\" style=\"stroke:#000000; stroke-width:4; stroke-opacity:1; fill:none\" points=\"\n",
       "  1790.72,1425.62 1790.72,1406.06 \n",
       "  \"/>\n",
       "<polyline clip-path=\"url(#clip7500)\" style=\"stroke:#000000; stroke-width:4; stroke-opacity:1; fill:none\" points=\"\n",
       "  2037.27,1425.62 2037.27,1406.06 \n",
       "  \"/>\n",
       "<polyline clip-path=\"url(#clip7500)\" style=\"stroke:#000000; stroke-width:4; stroke-opacity:1; fill:none\" points=\"\n",
       "  558.007,1239.92 580.196,1239.92 \n",
       "  \"/>\n",
       "<polyline clip-path=\"url(#clip7500)\" style=\"stroke:#000000; stroke-width:4; stroke-opacity:1; fill:none\" points=\"\n",
       "  558.007,993.374 580.196,993.374 \n",
       "  \"/>\n",
       "<polyline clip-path=\"url(#clip7500)\" style=\"stroke:#000000; stroke-width:4; stroke-opacity:1; fill:none\" points=\"\n",
       "  558.007,746.831 580.196,746.831 \n",
       "  \"/>\n",
       "<polyline clip-path=\"url(#clip7500)\" style=\"stroke:#000000; stroke-width:4; stroke-opacity:1; fill:none\" points=\"\n",
       "  558.007,500.288 580.196,500.288 \n",
       "  \"/>\n",
       "<polyline clip-path=\"url(#clip7500)\" style=\"stroke:#000000; stroke-width:4; stroke-opacity:1; fill:none\" points=\"\n",
       "  558.007,253.745 580.196,253.745 \n",
       "  \"/>\n",
       "<g clip-path=\"url(#clip7500)\">\n",
       "<text style=\"fill:#000000; fill-opacity:1; font-family:Arial,Helvetica Neue,Helvetica,sans-serif; font-size:48px; text-anchor:middle;\" transform=\"rotate(0, 558.007, 1479.62)\" x=\"558.007\" y=\"1479.62\">-0.75</text>\n",
       "</g>\n",
       "<g clip-path=\"url(#clip7500)\">\n",
       "<text style=\"fill:#000000; fill-opacity:1; font-family:Arial,Helvetica Neue,Helvetica,sans-serif; font-size:48px; text-anchor:middle;\" transform=\"rotate(0, 804.55, 1479.62)\" x=\"804.55\" y=\"1479.62\">-0.50</text>\n",
       "</g>\n",
       "<g clip-path=\"url(#clip7500)\">\n",
       "<text style=\"fill:#000000; fill-opacity:1; font-family:Arial,Helvetica Neue,Helvetica,sans-serif; font-size:48px; text-anchor:middle;\" transform=\"rotate(0, 1051.09, 1479.62)\" x=\"1051.09\" y=\"1479.62\">-0.25</text>\n",
       "</g>\n",
       "<g clip-path=\"url(#clip7500)\">\n",
       "<text style=\"fill:#000000; fill-opacity:1; font-family:Arial,Helvetica Neue,Helvetica,sans-serif; font-size:48px; text-anchor:middle;\" transform=\"rotate(0, 1297.64, 1479.62)\" x=\"1297.64\" y=\"1479.62\">0.00</text>\n",
       "</g>\n",
       "<g clip-path=\"url(#clip7500)\">\n",
       "<text style=\"fill:#000000; fill-opacity:1; font-family:Arial,Helvetica Neue,Helvetica,sans-serif; font-size:48px; text-anchor:middle;\" transform=\"rotate(0, 1544.18, 1479.62)\" x=\"1544.18\" y=\"1479.62\">0.25</text>\n",
       "</g>\n",
       "<g clip-path=\"url(#clip7500)\">\n",
       "<text style=\"fill:#000000; fill-opacity:1; font-family:Arial,Helvetica Neue,Helvetica,sans-serif; font-size:48px; text-anchor:middle;\" transform=\"rotate(0, 1790.72, 1479.62)\" x=\"1790.72\" y=\"1479.62\">0.50</text>\n",
       "</g>\n",
       "<g clip-path=\"url(#clip7500)\">\n",
       "<text style=\"fill:#000000; fill-opacity:1; font-family:Arial,Helvetica Neue,Helvetica,sans-serif; font-size:48px; text-anchor:middle;\" transform=\"rotate(0, 2037.27, 1479.62)\" x=\"2037.27\" y=\"1479.62\">0.75</text>\n",
       "</g>\n",
       "<g clip-path=\"url(#clip7500)\">\n",
       "<text style=\"fill:#000000; fill-opacity:1; font-family:Arial,Helvetica Neue,Helvetica,sans-serif; font-size:48px; text-anchor:end;\" transform=\"rotate(0, 534.007, 1257.42)\" x=\"534.007\" y=\"1257.42\">0.00</text>\n",
       "</g>\n",
       "<g clip-path=\"url(#clip7500)\">\n",
       "<text style=\"fill:#000000; fill-opacity:1; font-family:Arial,Helvetica Neue,Helvetica,sans-serif; font-size:48px; text-anchor:end;\" transform=\"rotate(0, 534.007, 1010.87)\" x=\"534.007\" y=\"1010.87\">0.25</text>\n",
       "</g>\n",
       "<g clip-path=\"url(#clip7500)\">\n",
       "<text style=\"fill:#000000; fill-opacity:1; font-family:Arial,Helvetica Neue,Helvetica,sans-serif; font-size:48px; text-anchor:end;\" transform=\"rotate(0, 534.007, 764.331)\" x=\"534.007\" y=\"764.331\">0.50</text>\n",
       "</g>\n",
       "<g clip-path=\"url(#clip7500)\">\n",
       "<text style=\"fill:#000000; fill-opacity:1; font-family:Arial,Helvetica Neue,Helvetica,sans-serif; font-size:48px; text-anchor:end;\" transform=\"rotate(0, 534.007, 517.788)\" x=\"534.007\" y=\"517.788\">0.75</text>\n",
       "</g>\n",
       "<g clip-path=\"url(#clip7500)\">\n",
       "<text style=\"fill:#000000; fill-opacity:1; font-family:Arial,Helvetica Neue,Helvetica,sans-serif; font-size:48px; text-anchor:end;\" transform=\"rotate(0, 534.007, 271.245)\" x=\"534.007\" y=\"271.245\">1.00</text>\n",
       "</g>\n",
       "<g clip-path=\"url(#clip7500)\">\n",
       "<text style=\"fill:#000000; fill-opacity:1; font-family:Arial,Helvetica Neue,Helvetica,sans-serif; font-size:84px; text-anchor:middle;\" transform=\"rotate(0, 1297.64, 73.2)\" x=\"1297.64\" y=\"73.2\">state trajectory</text>\n",
       "</g>\n",
       "<g clip-path=\"url(#clip7500)\">\n",
       "<text style=\"fill:#000000; fill-opacity:1; font-family:Arial,Helvetica Neue,Helvetica,sans-serif; font-size:66px; text-anchor:middle;\" transform=\"rotate(0, 1297.64, 1559.48)\" x=\"1297.64\" y=\"1559.48\">x</text>\n",
       "</g>\n",
       "<g clip-path=\"url(#clip7500)\">\n",
       "<text style=\"fill:#000000; fill-opacity:1; font-family:Arial,Helvetica Neue,Helvetica,sans-serif; font-size:66px; text-anchor:middle;\" transform=\"rotate(-90, 404.777, 773.647)\" x=\"404.777\" y=\"773.647\">y</text>\n",
       "</g>\n",
       "<polyline clip-path=\"url(#clip7502)\" style=\"stroke:#0000ff; stroke-width:4; stroke-opacity:1; fill:none\" stroke-dasharray=\"16, 10\" points=\"\n",
       "  1297.64,1239.92 1273.53,1239.22 1236.79,1236.17 1189.49,1230.12 1134.04,1221.17 1072.94,1210.03 1008.59,1197.86 943.304,1185.98 879.282,1175.68 818.655,1167.99 \n",
       "  763.477,1163.51 715.676,1162.3 676.958,1163.84 648.666,1167.01 631.644,1170.28 626.136,1171.8 631.757,1169.74 647.554,1162.42 672.146,1148.57 703.912,1127.43 \n",
       "  741.18,1098.74 782.394,1062.72 826.222,1019.98 871.615,971.4 917.807,918.036 964.295,861.032 1010.78,801.56 1057.11,740.785 1103.23,679.838 1149.09,619.807 \n",
       "  1194.64,561.727 1239.72,506.568 1284.1,455.217 1327.4,408.46 1369.08,366.947 1408.47,331.161 1444.8,301.384 1477.2,277.671 1504.78,259.835 1526.71,247.457 \n",
       "  1542.23,239.906 1550.74,236.391 1551.82,236.019 1545.25,237.86 1530.97,241.02 1509.11,244.692 1479.9,248.208 1443.66,251.072 1400.81,252.995 1351.86,253.935 \n",
       "  1297.73,254.169 \n",
       "  \"/>\n",
       "<polyline clip-path=\"url(#clip7502)\" style=\"stroke:#0000ff; stroke-width:8; stroke-opacity:1; fill:none\" points=\"\n",
       "  1297.64,1239.92 1252.3,1240.96 1207.04,1244.09 1161.91,1249.3 1117,1256.6 1072.36,1265.99 1028.08,1277.47 984.228,1291.04 940.878,1306.71 898.108,1324.47 \n",
       "  855.999,1344.33 814.63,1366.3 776.87,1388.71 816.486,1362.55 855.07,1334.3 892.507,1303.98 928.681,1271.62 963.475,1237.26 996.77,1200.93 1028.45,1162.68 \n",
       "  1058.39,1122.56 1086.47,1080.63 1112.57,1036.96 1136.58,991.619 1158.36,944.695 1177.81,896.277 1194.81,846.464 1209.24,795.365 1223.81,743.814 1241.32,692.7 \n",
       "  1261.78,642.22 1285.18,592.577 1311.5,543.975 1340.7,496.621 1372.73,450.719 1407.5,406.47 1444.94,364.071 1484.93,323.714 1527.35,285.58 1572.06,249.844 \n",
       "  1618.91,216.668 1667.73,186.2 1718.36,158.579 1691.15,171.417 1637.51,192.987 1582.65,211.39 1526.76,226.552 1470.06,238.413 1412.73,246.926 1355.01,252.057 \n",
       "  1297.09,253.789 \n",
       "  \"/>\n",
       "<circle clip-path=\"url(#clip7502)\" style=\"fill:#000000; stroke:none; fill-opacity:1\" cx=\"1297.64\" cy=\"1239.92\" r=\"18\"/>\n",
       "<circle clip-path=\"url(#clip7502)\" style=\"fill:#ff0000; stroke:none; fill-opacity:1\" cx=\"1297.64\" cy=\"1239.92\" r=\"14\"/>\n",
       "<circle clip-path=\"url(#clip7502)\" style=\"fill:#000000; stroke:none; fill-opacity:1\" cx=\"1297.73\" cy=\"254.169\" r=\"18\"/>\n",
       "<circle clip-path=\"url(#clip7502)\" style=\"fill:#008000; stroke:none; fill-opacity:1\" cx=\"1297.73\" cy=\"254.169\" r=\"14\"/>\n",
       "<polygon clip-path=\"url(#clip7500)\" points=\"\n",
       "1326.77,1068.99 1965.27,1068.99 1965.27,766.588 1326.77,766.588 \n",
       "  \" fill=\"#ffffff\" fill-rule=\"evenodd\" fill-opacity=\"1\"/>\n",
       "<polyline clip-path=\"url(#clip7500)\" style=\"stroke:#000000; stroke-width:4; stroke-opacity:1; fill:none\" points=\"\n",
       "  1326.77,1068.99 1965.27,1068.99 1965.27,766.588 1326.77,766.588 1326.77,1068.99 \n",
       "  \"/>\n",
       "<polyline clip-path=\"url(#clip7500)\" style=\"stroke:#0000ff; stroke-width:4; stroke-opacity:1; fill:none\" stroke-dasharray=\"16, 10\" points=\"\n",
       "  1350.77,827.068 1494.77,827.068 \n",
       "  \"/>\n",
       "<g clip-path=\"url(#clip7500)\">\n",
       "<text style=\"fill:#000000; fill-opacity:1; font-family:Arial,Helvetica Neue,Helvetica,sans-serif; font-size:48px; text-anchor:start;\" transform=\"rotate(0, 1518.77, 844.568)\" x=\"1518.77\" y=\"844.568\">ALTRO</text>\n",
       "</g>\n",
       "<polyline clip-path=\"url(#clip7500)\" style=\"stroke:#0000ff; stroke-width:8; stroke-opacity:1; fill:none\" points=\"\n",
       "  1350.77,887.548 1494.77,887.548 \n",
       "  \"/>\n",
       "<g clip-path=\"url(#clip7500)\">\n",
       "<text style=\"fill:#000000; fill-opacity:1; font-family:Arial,Helvetica Neue,Helvetica,sans-serif; font-size:48px; text-anchor:start;\" transform=\"rotate(0, 1518.77, 905.048)\" x=\"1518.77\" y=\"905.048\">ALTRO Min. Time.</text>\n",
       "</g>\n",
       "<polyline clip-path=\"url(#clip7500)\" style=\"stroke:#ff0000; stroke-width:4; stroke-opacity:1; fill:none\" points=\"\n",
       "  1350.77,948.028 1494.77,948.028 \n",
       "  \"/>\n",
       "<circle clip-path=\"url(#clip7500)\" style=\"fill:#000000; stroke:none; fill-opacity:1\" cx=\"1434.77\" cy=\"948.028\" r=\"25\"/>\n",
       "<circle clip-path=\"url(#clip7500)\" style=\"fill:#ff0000; stroke:none; fill-opacity:1\" cx=\"1434.77\" cy=\"948.028\" r=\"21\"/>\n",
       "<g clip-path=\"url(#clip7500)\">\n",
       "<text style=\"fill:#000000; fill-opacity:1; font-family:Arial,Helvetica Neue,Helvetica,sans-serif; font-size:48px; text-anchor:start;\" transform=\"rotate(0, 1518.77, 965.528)\" x=\"1518.77\" y=\"965.528\">start</text>\n",
       "</g>\n",
       "<polyline clip-path=\"url(#clip7500)\" style=\"stroke:#008000; stroke-width:4; stroke-opacity:1; fill:none\" points=\"\n",
       "  1350.77,1008.51 1494.77,1008.51 \n",
       "  \"/>\n",
       "<circle clip-path=\"url(#clip7500)\" style=\"fill:#000000; stroke:none; fill-opacity:1\" cx=\"1434.77\" cy=\"1008.51\" r=\"25\"/>\n",
       "<circle clip-path=\"url(#clip7500)\" style=\"fill:#008000; stroke:none; fill-opacity:1\" cx=\"1434.77\" cy=\"1008.51\" r=\"21\"/>\n",
       "<g clip-path=\"url(#clip7500)\">\n",
       "<text style=\"fill:#000000; fill-opacity:1; font-family:Arial,Helvetica Neue,Helvetica,sans-serif; font-size:48px; text-anchor:start;\" transform=\"rotate(0, 1518.77, 1026.01)\" x=\"1518.77\" y=\"1026.01\">goal</text>\n",
       "</g>\n",
       "</svg>\n"
      ]
     },
     "execution_count": 16,
     "metadata": {},
     "output_type": "execute_result"
    }
   ],
   "source": [
    "plot()\n",
    "plot!(x,y,xlabel=\"x\",ylabel=\"y\",label=\"ALTRO\",legend=:right,color=:blue,linestyle=:dash,ratio=:equal,title=\"state trajectory\")\n",
    "plot!(x_min_time,y_min_time,xlim=(-0.75,0.75),xlabel=\"x\",ylabel=\"y\",label=\"ALTRO Min. Time.\",color=:blue,width=2,ratio=:equal,title=\"state trajectory\")\n",
    "\n",
    "plot!((x[1],y[1]),marker=:circle,color=:red,label=\"start\")\n",
    "plot!((x[end],y[end]),marker=:circle,color=:green,label=\"goal\")"
   ]
  },
  {
   "cell_type": "markdown",
   "metadata": {},
   "source": [
    "Compute total time"
   ]
  },
  {
   "cell_type": "code",
   "execution_count": 19,
   "metadata": {},
   "outputs": [
    {
     "name": "stdout",
     "output_type": "stream",
     "text": [
      "tt = total_time(prob) = 3.0\n",
      "tt_mt = total_time(prob_mt) = 1.3222236191640016\n"
     ]
    }
   ],
   "source": [
    "@show tt = total_time(prob)\n",
    "@show tt_mt = total_time(prob_mt);"
   ]
  },
  {
   "cell_type": "markdown",
   "metadata": {},
   "source": [
    "Plot control trajectories"
   ]
  },
  {
   "cell_type": "code",
   "execution_count": 20,
   "metadata": {},
   "outputs": [],
   "source": [
    "t_range = range(0, stop=tt, length=N)[1:end-1]\n",
    "u1 = [prob.U[k][1] for k = 1:N-1]\n",
    "u2 = [prob.U[k][2] for k = 1:N-1];"
   ]
  },
  {
   "cell_type": "code",
   "execution_count": 21,
   "metadata": {},
   "outputs": [],
   "source": [
    "t_range_mt = range(0, stop=tt_mt, length=N)[1:end-1]\n",
    "u1_mt = [prob_mt.U[k][1] for k = 1:N-1]\n",
    "u2_mt = [prob_mt.U[k][2] for k = 1:N-1];"
   ]
  },
  {
   "cell_type": "code",
   "execution_count": 22,
   "metadata": {},
   "outputs": [
    {
     "data": {
      "image/svg+xml": [
       "<?xml version=\"1.0\" encoding=\"utf-8\"?>\n",
       "<svg xmlns=\"http://www.w3.org/2000/svg\" xmlns:xlink=\"http://www.w3.org/1999/xlink\" width=\"600\" height=\"400\" viewBox=\"0 0 2400 1600\">\n",
       "<defs>\n",
       "  <clipPath id=\"clip7900\">\n",
       "    <rect x=\"0\" y=\"0\" width=\"2400\" height=\"1600\"/>\n",
       "  </clipPath>\n",
       "</defs>\n",
       "<polygon clip-path=\"url(#clip7900)\" points=\"\n",
       "0,1600 2400,1600 2400,0 0,0 \n",
       "  \" fill=\"#ffffff\" fill-rule=\"evenodd\" fill-opacity=\"1\"/>\n",
       "<defs>\n",
       "  <clipPath id=\"clip7901\">\n",
       "    <rect x=\"480\" y=\"0\" width=\"1681\" height=\"1600\"/>\n",
       "  </clipPath>\n",
       "</defs>\n",
       "<polygon clip-path=\"url(#clip7900)\" points=\"\n",
       "141.865,1425.62 2352.76,1425.62 2352.76,121.675 141.865,121.675 \n",
       "  \" fill=\"#ffffff\" fill-rule=\"evenodd\" fill-opacity=\"1\"/>\n",
       "<defs>\n",
       "  <clipPath id=\"clip7902\">\n",
       "    <rect x=\"141\" y=\"121\" width=\"2212\" height=\"1305\"/>\n",
       "  </clipPath>\n",
       "</defs>\n",
       "<polyline clip-path=\"url(#clip7902)\" style=\"stroke:#000000; stroke-width:2; stroke-opacity:0.1; fill:none\" points=\"\n",
       "  204.437,1425.62 204.437,121.675 \n",
       "  \"/>\n",
       "<polyline clip-path=\"url(#clip7902)\" style=\"stroke:#000000; stroke-width:2; stroke-opacity:0.1; fill:none\" points=\"\n",
       "  913.875,1425.62 913.875,121.675 \n",
       "  \"/>\n",
       "<polyline clip-path=\"url(#clip7902)\" style=\"stroke:#000000; stroke-width:2; stroke-opacity:0.1; fill:none\" points=\"\n",
       "  1623.31,1425.62 1623.31,121.675 \n",
       "  \"/>\n",
       "<polyline clip-path=\"url(#clip7902)\" style=\"stroke:#000000; stroke-width:2; stroke-opacity:0.1; fill:none\" points=\"\n",
       "  2332.75,1425.62 2332.75,121.675 \n",
       "  \"/>\n",
       "<polyline clip-path=\"url(#clip7902)\" style=\"stroke:#000000; stroke-width:2; stroke-opacity:0.1; fill:none\" points=\"\n",
       "  141.865,1388.66 2352.76,1388.66 \n",
       "  \"/>\n",
       "<polyline clip-path=\"url(#clip7902)\" style=\"stroke:#000000; stroke-width:2; stroke-opacity:0.1; fill:none\" points=\"\n",
       "  141.865,1081.14 2352.76,1081.14 \n",
       "  \"/>\n",
       "<polyline clip-path=\"url(#clip7902)\" style=\"stroke:#000000; stroke-width:2; stroke-opacity:0.1; fill:none\" points=\"\n",
       "  141.865,773.632 2352.76,773.632 \n",
       "  \"/>\n",
       "<polyline clip-path=\"url(#clip7902)\" style=\"stroke:#000000; stroke-width:2; stroke-opacity:0.1; fill:none\" points=\"\n",
       "  141.865,466.119 2352.76,466.119 \n",
       "  \"/>\n",
       "<polyline clip-path=\"url(#clip7902)\" style=\"stroke:#000000; stroke-width:2; stroke-opacity:0.1; fill:none\" points=\"\n",
       "  141.865,158.606 2352.76,158.606 \n",
       "  \"/>\n",
       "<polyline clip-path=\"url(#clip7900)\" style=\"stroke:#000000; stroke-width:4; stroke-opacity:1; fill:none\" points=\"\n",
       "  141.865,1425.62 2352.76,1425.62 \n",
       "  \"/>\n",
       "<polyline clip-path=\"url(#clip7900)\" style=\"stroke:#000000; stroke-width:4; stroke-opacity:1; fill:none\" points=\"\n",
       "  141.865,1425.62 141.865,121.675 \n",
       "  \"/>\n",
       "<polyline clip-path=\"url(#clip7900)\" style=\"stroke:#000000; stroke-width:4; stroke-opacity:1; fill:none\" points=\"\n",
       "  204.437,1425.62 204.437,1406.06 \n",
       "  \"/>\n",
       "<polyline clip-path=\"url(#clip7900)\" style=\"stroke:#000000; stroke-width:4; stroke-opacity:1; fill:none\" points=\"\n",
       "  913.875,1425.62 913.875,1406.06 \n",
       "  \"/>\n",
       "<polyline clip-path=\"url(#clip7900)\" style=\"stroke:#000000; stroke-width:4; stroke-opacity:1; fill:none\" points=\"\n",
       "  1623.31,1425.62 1623.31,1406.06 \n",
       "  \"/>\n",
       "<polyline clip-path=\"url(#clip7900)\" style=\"stroke:#000000; stroke-width:4; stroke-opacity:1; fill:none\" points=\"\n",
       "  2332.75,1425.62 2332.75,1406.06 \n",
       "  \"/>\n",
       "<polyline clip-path=\"url(#clip7900)\" style=\"stroke:#000000; stroke-width:4; stroke-opacity:1; fill:none\" points=\"\n",
       "  141.865,1388.66 175.028,1388.66 \n",
       "  \"/>\n",
       "<polyline clip-path=\"url(#clip7900)\" style=\"stroke:#000000; stroke-width:4; stroke-opacity:1; fill:none\" points=\"\n",
       "  141.865,1081.14 175.028,1081.14 \n",
       "  \"/>\n",
       "<polyline clip-path=\"url(#clip7900)\" style=\"stroke:#000000; stroke-width:4; stroke-opacity:1; fill:none\" points=\"\n",
       "  141.865,773.632 175.028,773.632 \n",
       "  \"/>\n",
       "<polyline clip-path=\"url(#clip7900)\" style=\"stroke:#000000; stroke-width:4; stroke-opacity:1; fill:none\" points=\"\n",
       "  141.865,466.119 175.028,466.119 \n",
       "  \"/>\n",
       "<polyline clip-path=\"url(#clip7900)\" style=\"stroke:#000000; stroke-width:4; stroke-opacity:1; fill:none\" points=\"\n",
       "  141.865,158.606 175.028,158.606 \n",
       "  \"/>\n",
       "<g clip-path=\"url(#clip7900)\">\n",
       "<text style=\"fill:#000000; fill-opacity:1; font-family:Arial,Helvetica Neue,Helvetica,sans-serif; font-size:48px; text-anchor:middle;\" transform=\"rotate(0, 204.437, 1479.62)\" x=\"204.437\" y=\"1479.62\">0</text>\n",
       "</g>\n",
       "<g clip-path=\"url(#clip7900)\">\n",
       "<text style=\"fill:#000000; fill-opacity:1; font-family:Arial,Helvetica Neue,Helvetica,sans-serif; font-size:48px; text-anchor:middle;\" transform=\"rotate(0, 913.875, 1479.62)\" x=\"913.875\" y=\"1479.62\">1</text>\n",
       "</g>\n",
       "<g clip-path=\"url(#clip7900)\">\n",
       "<text style=\"fill:#000000; fill-opacity:1; font-family:Arial,Helvetica Neue,Helvetica,sans-serif; font-size:48px; text-anchor:middle;\" transform=\"rotate(0, 1623.31, 1479.62)\" x=\"1623.31\" y=\"1479.62\">2</text>\n",
       "</g>\n",
       "<g clip-path=\"url(#clip7900)\">\n",
       "<text style=\"fill:#000000; fill-opacity:1; font-family:Arial,Helvetica Neue,Helvetica,sans-serif; font-size:48px; text-anchor:middle;\" transform=\"rotate(0, 2332.75, 1479.62)\" x=\"2332.75\" y=\"1479.62\">3</text>\n",
       "</g>\n",
       "<g clip-path=\"url(#clip7900)\">\n",
       "<text style=\"fill:#000000; fill-opacity:1; font-family:Arial,Helvetica Neue,Helvetica,sans-serif; font-size:48px; text-anchor:end;\" transform=\"rotate(0, 117.865, 1406.16)\" x=\"117.865\" y=\"1406.16\">-2</text>\n",
       "</g>\n",
       "<g clip-path=\"url(#clip7900)\">\n",
       "<text style=\"fill:#000000; fill-opacity:1; font-family:Arial,Helvetica Neue,Helvetica,sans-serif; font-size:48px; text-anchor:end;\" transform=\"rotate(0, 117.865, 1098.64)\" x=\"117.865\" y=\"1098.64\">-1</text>\n",
       "</g>\n",
       "<g clip-path=\"url(#clip7900)\">\n",
       "<text style=\"fill:#000000; fill-opacity:1; font-family:Arial,Helvetica Neue,Helvetica,sans-serif; font-size:48px; text-anchor:end;\" transform=\"rotate(0, 117.865, 791.132)\" x=\"117.865\" y=\"791.132\">0</text>\n",
       "</g>\n",
       "<g clip-path=\"url(#clip7900)\">\n",
       "<text style=\"fill:#000000; fill-opacity:1; font-family:Arial,Helvetica Neue,Helvetica,sans-serif; font-size:48px; text-anchor:end;\" transform=\"rotate(0, 117.865, 483.619)\" x=\"117.865\" y=\"483.619\">1</text>\n",
       "</g>\n",
       "<g clip-path=\"url(#clip7900)\">\n",
       "<text style=\"fill:#000000; fill-opacity:1; font-family:Arial,Helvetica Neue,Helvetica,sans-serif; font-size:48px; text-anchor:end;\" transform=\"rotate(0, 117.865, 176.106)\" x=\"117.865\" y=\"176.106\">2</text>\n",
       "</g>\n",
       "<g clip-path=\"url(#clip7900)\">\n",
       "<text style=\"fill:#000000; fill-opacity:1; font-family:Arial,Helvetica Neue,Helvetica,sans-serif; font-size:84px; text-anchor:middle;\" transform=\"rotate(0, 1247.31, 73.2)\" x=\"1247.31\" y=\"73.2\">Control Trajectory</text>\n",
       "</g>\n",
       "<g clip-path=\"url(#clip7900)\">\n",
       "<text style=\"fill:#000000; fill-opacity:1; font-family:Arial,Helvetica Neue,Helvetica,sans-serif; font-size:66px; text-anchor:middle;\" transform=\"rotate(0, 1247.31, 1559.48)\" x=\"1247.31\" y=\"1559.48\">time (s)</text>\n",
       "</g>\n",
       "<polyline clip-path=\"url(#clip7902)\" style=\"stroke:#009af9; stroke-width:4; stroke-opacity:1; fill:none\" points=\"\n",
       "  204.437,898.958 247.003,965.289 289.569,1021.47 332.136,1065.51 374.702,1096.43 417.268,1113.99 459.834,1118.51 502.401,1110.65 544.967,1091.26 587.533,1061.37 \n",
       "  630.1,1022.17 672.666,975.052 715.232,921.629 757.798,863.732 800.365,803.345 842.931,742.496 885.497,683.122 928.063,626.927 970.63,575.278 1013.2,529.15 \n",
       "  1055.76,489.125 1098.33,455.442 1140.89,428.073 1183.46,406.809 1226.03,391.342 1268.59,381.334 1311.16,376.456 1353.73,376.428 1396.29,381.017 1438.86,390.046 \n",
       "  1481.42,403.375 1523.99,420.882 1566.56,442.441 1609.12,467.889 1651.69,497.004 1694.26,529.487 1736.82,564.943 1779.39,602.887 1821.95,642.754 1864.52,683.927 \n",
       "  1907.09,725.772 1949.65,767.681 1992.22,809.112 2034.79,849.616 2077.35,888.852 2119.92,926.57 2162.48,962.56 2205.05,996.555 2247.62,1028.1 2290.18,1054.93 \n",
       "  \n",
       "  \"/>\n",
       "<polyline clip-path=\"url(#clip7902)\" style=\"stroke:#e26f46; stroke-width:4; stroke-opacity:1; fill:none\" points=\"\n",
       "  204.437,1070.69 247.003,1028.19 289.569,973.846 332.136,911.064 374.702,843.08 417.268,772.784 459.834,702.661 502.401,634.822 544.967,571.093 587.533,513.094 \n",
       "  630.1,462.285 672.666,419.961 715.232,387.201 757.798,364.773 800.365,353.046 842.931,351.925 885.497,360.846 928.063,378.83 970.63,404.591 1013.2,436.685 \n",
       "  1055.76,473.643 1098.33,514.094 1140.89,556.833 1183.46,600.865 1226.03,645.401 1268.59,689.829 1311.16,733.681 1353.73,776.585 1396.29,818.223 1438.86,858.292 \n",
       "  1481.42,896.474 1523.99,932.416 1566.56,965.723 1609.12,995.958 1651.69,1022.66 1694.26,1045.35 1736.82,1063.59 1779.39,1077 1821.95,1085.3 1864.52,1088.33 \n",
       "  1907.09,1086.04 1949.65,1078.51 1992.22,1065.91 2034.79,1048.43 2077.35,1026.21 2119.92,999.23 2162.48,967.138 2205.05,928.894 2247.62,881.491 2290.18,818.013 \n",
       "  \n",
       "  \"/>\n",
       "<polyline clip-path=\"url(#clip7902)\" style=\"stroke:#3da44d; stroke-width:8; stroke-opacity:1; fill:none\" points=\"\n",
       "  204.437,1388.67 223.198,1388.67 241.958,1388.67 260.719,1388.67 279.48,1388.67 298.24,1388.66 317.001,1388.66 335.762,1388.66 354.523,1388.66 373.283,1388.66 \n",
       "  392.044,1388.71 410.805,1346.55 429.565,158.606 448.326,158.606 467.087,158.606 485.847,158.606 504.608,158.606 523.369,158.606 542.13,158.606 560.89,158.606 \n",
       "  579.651,158.606 598.412,158.606 617.172,158.606 635.933,158.606 654.694,158.606 673.455,158.605 692.215,158.605 710.976,158.605 729.737,158.607 748.497,158.607 \n",
       "  767.258,158.607 786.019,158.607 804.779,158.607 823.54,158.607 842.301,158.607 861.062,158.607 879.822,158.607 898.583,158.607 917.344,158.607 936.104,158.607 \n",
       "  954.865,158.606 973.626,158.606 992.386,1093.9 1011.15,1388.65 1029.91,1388.65 1048.67,1388.65 1067.43,1388.65 1086.19,1388.65 1104.95,1388.65 1123.71,1388.65 \n",
       "  \n",
       "  \"/>\n",
       "<polyline clip-path=\"url(#clip7902)\" style=\"stroke:#c271d2; stroke-width:8; stroke-opacity:1; fill:none\" points=\"\n",
       "  204.437,158.604 223.198,158.603 241.958,158.602 260.719,158.6 279.48,158.599 298.24,158.597 317.001,158.596 335.762,158.594 354.523,158.592 373.283,158.589 \n",
       "  392.044,158.587 410.805,158.583 429.565,158.581 448.326,158.581 467.087,158.58 485.847,158.58 504.608,158.579 523.369,158.579 542.13,158.579 560.89,158.579 \n",
       "  579.651,158.58 598.412,158.581 617.172,158.583 635.933,158.587 654.694,158.592 673.455,158.598 692.215,158.604 710.976,1388.66 729.737,1388.66 748.497,1388.66 \n",
       "  767.258,1388.66 786.019,1388.66 804.779,1388.66 823.54,1388.66 842.301,1388.66 861.062,1388.66 879.822,1388.66 898.583,1388.66 917.344,1388.66 936.104,1388.66 \n",
       "  954.865,1388.66 973.626,1388.66 992.386,1388.66 1011.15,1388.66 1029.91,1388.66 1048.67,1388.66 1067.43,1388.66 1086.19,1388.66 1104.95,1388.66 1123.71,1388.66 \n",
       "  \n",
       "  \"/>\n",
       "<polygon clip-path=\"url(#clip7900)\" points=\"\n",
       "1730.53,507.595 2280.76,507.595 2280.76,205.195 1730.53,205.195 \n",
       "  \" fill=\"#ffffff\" fill-rule=\"evenodd\" fill-opacity=\"1\"/>\n",
       "<polyline clip-path=\"url(#clip7900)\" style=\"stroke:#000000; stroke-width:4; stroke-opacity:1; fill:none\" points=\"\n",
       "  1730.53,507.595 2280.76,507.595 2280.76,205.195 1730.53,205.195 1730.53,507.595 \n",
       "  \"/>\n",
       "<polyline clip-path=\"url(#clip7900)\" style=\"stroke:#009af9; stroke-width:4; stroke-opacity:1; fill:none\" points=\"\n",
       "  1754.53,265.675 1898.53,265.675 \n",
       "  \"/>\n",
       "<g clip-path=\"url(#clip7900)\">\n",
       "<text style=\"fill:#000000; fill-opacity:1; font-family:Arial,Helvetica Neue,Helvetica,sans-serif; font-size:48px; text-anchor:start;\" transform=\"rotate(0, 1922.53, 283.175)\" x=\"1922.53\" y=\"283.175\">u1</text>\n",
       "</g>\n",
       "<polyline clip-path=\"url(#clip7900)\" style=\"stroke:#e26f46; stroke-width:4; stroke-opacity:1; fill:none\" points=\"\n",
       "  1754.53,326.155 1898.53,326.155 \n",
       "  \"/>\n",
       "<g clip-path=\"url(#clip7900)\">\n",
       "<text style=\"fill:#000000; fill-opacity:1; font-family:Arial,Helvetica Neue,Helvetica,sans-serif; font-size:48px; text-anchor:start;\" transform=\"rotate(0, 1922.53, 343.655)\" x=\"1922.53\" y=\"343.655\">u2</text>\n",
       "</g>\n",
       "<polyline clip-path=\"url(#clip7900)\" style=\"stroke:#3da44d; stroke-width:8; stroke-opacity:1; fill:none\" points=\"\n",
       "  1754.53,386.635 1898.53,386.635 \n",
       "  \"/>\n",
       "<g clip-path=\"url(#clip7900)\">\n",
       "<text style=\"fill:#000000; fill-opacity:1; font-family:Arial,Helvetica Neue,Helvetica,sans-serif; font-size:48px; text-anchor:start;\" transform=\"rotate(0, 1922.53, 404.135)\" x=\"1922.53\" y=\"404.135\">u1 (Min. Time)</text>\n",
       "</g>\n",
       "<polyline clip-path=\"url(#clip7900)\" style=\"stroke:#c271d2; stroke-width:8; stroke-opacity:1; fill:none\" points=\"\n",
       "  1754.53,447.115 1898.53,447.115 \n",
       "  \"/>\n",
       "<g clip-path=\"url(#clip7900)\">\n",
       "<text style=\"fill:#000000; fill-opacity:1; font-family:Arial,Helvetica Neue,Helvetica,sans-serif; font-size:48px; text-anchor:start;\" transform=\"rotate(0, 1922.53, 464.615)\" x=\"1922.53\" y=\"464.615\">u2 (Min. Time)</text>\n",
       "</g>\n",
       "</svg>\n"
      ]
     },
     "execution_count": 22,
     "metadata": {},
     "output_type": "execute_result"
    }
   ],
   "source": [
    "plot(title=\"Control Trajectory\",xlabel=\"time (s)\")\n",
    "plot!(t_range,u1,label=\"u1\")\n",
    "plot!(t_range,u2,label=\"u2\")\n",
    "plot!(t_range_mt,u1_mt,width=2,label=\"u1 (Min. Time)\")\n",
    "plot!(t_range_mt,u2_mt,width=2,label=\"u2 (Min. Time)\")"
   ]
  },
  {
   "cell_type": "code",
   "execution_count": null,
   "metadata": {},
   "outputs": [],
   "source": []
  }
 ],
 "metadata": {
  "@webio": {
   "lastCommId": null,
   "lastKernelId": null
  },
  "kernelspec": {
   "display_name": "Julia 1.1.0",
   "language": "julia",
   "name": "julia-1.1"
  },
  "language_info": {
   "file_extension": ".jl",
   "mimetype": "application/julia",
   "name": "julia",
   "version": "1.1.0"
  }
 },
 "nbformat": 4,
 "nbformat_minor": 2
}
